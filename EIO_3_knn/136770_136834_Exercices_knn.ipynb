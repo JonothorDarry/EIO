{
 "cells": [
  {
   "cell_type": "markdown",
   "metadata": {},
   "source": [
    "# 1. K-NN classifier\n",
    "\n",
    "**Question** How does the k-nn algorithm work?\n",
    "\n",
    "**Question** What are the parameters we need to choose to classify with k-NN? How can we choose them\n",
    "\n",
    "**Question** What are the advantages and disadvantages of this algorithm? For which kind of dataset it would be appropriate and for which datasets it wouldn't?\n",
    "\n",
    "**Question** How can we deal with nominal values in distance measurement?\n"
   ]
  },
  {
   "cell_type": "markdown",
   "metadata": {},
   "source": [
    "In further part of the laboratory, we will perform a preprocessing of the data and a classification of a set of biomedical voice measurements. Some of them has been recorded for people with Parkinson's desease.\n",
    "\n",
    "More about the dataset: https://archive.ics.uci.edu/ml/datasets/parkinsons\n",
    "\n",
    "First, we load the required packages:"
   ]
  },
  {
   "cell_type": "code",
   "execution_count": 1,
   "metadata": {},
   "outputs": [],
   "source": [
    "import pandas as pd\n",
    "from sklearn.feature_selection import SelectKBest, chi2, mutual_info_classif, f_classif\n",
    "from sklearn.model_selection import train_test_split, cross_validate, StratifiedKFold\n",
    "from sklearn.neighbors import KNeighborsClassifier\n",
    "from sklearn import metrics\n",
    "from sklearn import preprocessing\n",
    "import matplotlib.pyplot as plt"
   ]
  },
  {
   "cell_type": "markdown",
   "metadata": {},
   "source": [
    "# 2. Data loading and analysis of the attributes\n",
    "Let's start with the data preparation, \n",
    "#### 2.1. Load the dataset from file parkinsons.csv into data frame using library pandas (pd.read_csv). Write the body of the read_data function to return a data frame with attributes and a list with class labels. Classes are available in 'status' column. You should also remove column 'name' from the data (see function drop of dataFrame https://pandas.pydata.org/pandas-docs/stable/reference/api/pandas.DataFrame.drop.html)."
   ]
  },
  {
   "cell_type": "code",
   "execution_count": 2,
   "metadata": {},
   "outputs": [],
   "source": [
    "def read_data(path):\n",
    "    dataframe = pd.read_csv(path)\n",
    "    \n",
    "    status = dataframe['status']\n",
    "    dataframe = dataframe.drop(['name', 'status'], axis=1)\n",
    "\n",
    "    return dataframe, status\n",
    "\n",
    "data_X, data_Y = read_data(\"parkinsons.data\")"
   ]
  },
  {
   "cell_type": "markdown",
   "metadata": {},
   "source": [
    "Let's see what we have loaded."
   ]
  },
  {
   "cell_type": "code",
   "execution_count": 3,
   "metadata": {},
   "outputs": [
    {
     "data": {
      "text/html": [
       "<div>\n",
       "<style scoped>\n",
       "    .dataframe tbody tr th:only-of-type {\n",
       "        vertical-align: middle;\n",
       "    }\n",
       "\n",
       "    .dataframe tbody tr th {\n",
       "        vertical-align: top;\n",
       "    }\n",
       "\n",
       "    .dataframe thead th {\n",
       "        text-align: right;\n",
       "    }\n",
       "</style>\n",
       "<table border=\"1\" class=\"dataframe\">\n",
       "  <thead>\n",
       "    <tr style=\"text-align: right;\">\n",
       "      <th></th>\n",
       "      <th>MDVP:Fo(Hz)</th>\n",
       "      <th>MDVP:Fhi(Hz)</th>\n",
       "      <th>MDVP:Flo(Hz)</th>\n",
       "      <th>MDVP:Jitter(%)</th>\n",
       "      <th>MDVP:Jitter(Abs)</th>\n",
       "      <th>MDVP:RAP</th>\n",
       "      <th>MDVP:PPQ</th>\n",
       "      <th>Jitter:DDP</th>\n",
       "      <th>MDVP:Shimmer</th>\n",
       "      <th>MDVP:Shimmer(dB)</th>\n",
       "      <th>...</th>\n",
       "      <th>MDVP:APQ</th>\n",
       "      <th>Shimmer:DDA</th>\n",
       "      <th>NHR</th>\n",
       "      <th>HNR</th>\n",
       "      <th>RPDE</th>\n",
       "      <th>DFA</th>\n",
       "      <th>spread1</th>\n",
       "      <th>spread2</th>\n",
       "      <th>D2</th>\n",
       "      <th>PPE</th>\n",
       "    </tr>\n",
       "  </thead>\n",
       "  <tbody>\n",
       "    <tr>\n",
       "      <th>0</th>\n",
       "      <td>119.992</td>\n",
       "      <td>157.302</td>\n",
       "      <td>74.997</td>\n",
       "      <td>0.00784</td>\n",
       "      <td>0.00007</td>\n",
       "      <td>0.00370</td>\n",
       "      <td>0.00554</td>\n",
       "      <td>0.01109</td>\n",
       "      <td>0.04374</td>\n",
       "      <td>0.426</td>\n",
       "      <td>...</td>\n",
       "      <td>0.02971</td>\n",
       "      <td>0.06545</td>\n",
       "      <td>0.02211</td>\n",
       "      <td>21.033</td>\n",
       "      <td>0.414783</td>\n",
       "      <td>0.815285</td>\n",
       "      <td>-4.813031</td>\n",
       "      <td>0.266482</td>\n",
       "      <td>2.301442</td>\n",
       "      <td>0.284654</td>\n",
       "    </tr>\n",
       "    <tr>\n",
       "      <th>1</th>\n",
       "      <td>122.400</td>\n",
       "      <td>148.650</td>\n",
       "      <td>113.819</td>\n",
       "      <td>0.00968</td>\n",
       "      <td>0.00008</td>\n",
       "      <td>0.00465</td>\n",
       "      <td>0.00696</td>\n",
       "      <td>0.01394</td>\n",
       "      <td>0.06134</td>\n",
       "      <td>0.626</td>\n",
       "      <td>...</td>\n",
       "      <td>0.04368</td>\n",
       "      <td>0.09403</td>\n",
       "      <td>0.01929</td>\n",
       "      <td>19.085</td>\n",
       "      <td>0.458359</td>\n",
       "      <td>0.819521</td>\n",
       "      <td>-4.075192</td>\n",
       "      <td>0.335590</td>\n",
       "      <td>2.486855</td>\n",
       "      <td>0.368674</td>\n",
       "    </tr>\n",
       "    <tr>\n",
       "      <th>2</th>\n",
       "      <td>116.682</td>\n",
       "      <td>131.111</td>\n",
       "      <td>111.555</td>\n",
       "      <td>0.01050</td>\n",
       "      <td>0.00009</td>\n",
       "      <td>0.00544</td>\n",
       "      <td>0.00781</td>\n",
       "      <td>0.01633</td>\n",
       "      <td>0.05233</td>\n",
       "      <td>0.482</td>\n",
       "      <td>...</td>\n",
       "      <td>0.03590</td>\n",
       "      <td>0.08270</td>\n",
       "      <td>0.01309</td>\n",
       "      <td>20.651</td>\n",
       "      <td>0.429895</td>\n",
       "      <td>0.825288</td>\n",
       "      <td>-4.443179</td>\n",
       "      <td>0.311173</td>\n",
       "      <td>2.342259</td>\n",
       "      <td>0.332634</td>\n",
       "    </tr>\n",
       "    <tr>\n",
       "      <th>3</th>\n",
       "      <td>116.676</td>\n",
       "      <td>137.871</td>\n",
       "      <td>111.366</td>\n",
       "      <td>0.00997</td>\n",
       "      <td>0.00009</td>\n",
       "      <td>0.00502</td>\n",
       "      <td>0.00698</td>\n",
       "      <td>0.01505</td>\n",
       "      <td>0.05492</td>\n",
       "      <td>0.517</td>\n",
       "      <td>...</td>\n",
       "      <td>0.03772</td>\n",
       "      <td>0.08771</td>\n",
       "      <td>0.01353</td>\n",
       "      <td>20.644</td>\n",
       "      <td>0.434969</td>\n",
       "      <td>0.819235</td>\n",
       "      <td>-4.117501</td>\n",
       "      <td>0.334147</td>\n",
       "      <td>2.405554</td>\n",
       "      <td>0.368975</td>\n",
       "    </tr>\n",
       "    <tr>\n",
       "      <th>4</th>\n",
       "      <td>116.014</td>\n",
       "      <td>141.781</td>\n",
       "      <td>110.655</td>\n",
       "      <td>0.01284</td>\n",
       "      <td>0.00011</td>\n",
       "      <td>0.00655</td>\n",
       "      <td>0.00908</td>\n",
       "      <td>0.01966</td>\n",
       "      <td>0.06425</td>\n",
       "      <td>0.584</td>\n",
       "      <td>...</td>\n",
       "      <td>0.04465</td>\n",
       "      <td>0.10470</td>\n",
       "      <td>0.01767</td>\n",
       "      <td>19.649</td>\n",
       "      <td>0.417356</td>\n",
       "      <td>0.823484</td>\n",
       "      <td>-3.747787</td>\n",
       "      <td>0.234513</td>\n",
       "      <td>2.332180</td>\n",
       "      <td>0.410335</td>\n",
       "    </tr>\n",
       "  </tbody>\n",
       "</table>\n",
       "<p>5 rows × 22 columns</p>\n",
       "</div>"
      ],
      "text/plain": [
       "   MDVP:Fo(Hz)  MDVP:Fhi(Hz)  MDVP:Flo(Hz)  MDVP:Jitter(%)  MDVP:Jitter(Abs)  \\\n",
       "0      119.992       157.302        74.997         0.00784           0.00007   \n",
       "1      122.400       148.650       113.819         0.00968           0.00008   \n",
       "2      116.682       131.111       111.555         0.01050           0.00009   \n",
       "3      116.676       137.871       111.366         0.00997           0.00009   \n",
       "4      116.014       141.781       110.655         0.01284           0.00011   \n",
       "\n",
       "   MDVP:RAP  MDVP:PPQ  Jitter:DDP  MDVP:Shimmer  MDVP:Shimmer(dB)  ...  \\\n",
       "0   0.00370   0.00554     0.01109       0.04374             0.426  ...   \n",
       "1   0.00465   0.00696     0.01394       0.06134             0.626  ...   \n",
       "2   0.00544   0.00781     0.01633       0.05233             0.482  ...   \n",
       "3   0.00502   0.00698     0.01505       0.05492             0.517  ...   \n",
       "4   0.00655   0.00908     0.01966       0.06425             0.584  ...   \n",
       "\n",
       "   MDVP:APQ  Shimmer:DDA      NHR     HNR      RPDE       DFA   spread1  \\\n",
       "0   0.02971      0.06545  0.02211  21.033  0.414783  0.815285 -4.813031   \n",
       "1   0.04368      0.09403  0.01929  19.085  0.458359  0.819521 -4.075192   \n",
       "2   0.03590      0.08270  0.01309  20.651  0.429895  0.825288 -4.443179   \n",
       "3   0.03772      0.08771  0.01353  20.644  0.434969  0.819235 -4.117501   \n",
       "4   0.04465      0.10470  0.01767  19.649  0.417356  0.823484 -3.747787   \n",
       "\n",
       "    spread2        D2       PPE  \n",
       "0  0.266482  2.301442  0.284654  \n",
       "1  0.335590  2.486855  0.368674  \n",
       "2  0.311173  2.342259  0.332634  \n",
       "3  0.334147  2.405554  0.368975  \n",
       "4  0.234513  2.332180  0.410335  \n",
       "\n",
       "[5 rows x 22 columns]"
      ]
     },
     "execution_count": 3,
     "metadata": {},
     "output_type": "execute_result"
    }
   ],
   "source": [
    "data_X.head()"
   ]
  },
  {
   "cell_type": "code",
   "execution_count": 4,
   "metadata": {},
   "outputs": [
    {
     "data": {
      "text/plain": [
       "0      1\n",
       "1      1\n",
       "2      1\n",
       "3      1\n",
       "4      1\n",
       "      ..\n",
       "190    0\n",
       "191    0\n",
       "192    0\n",
       "193    0\n",
       "194    0\n",
       "Name: status, Length: 195, dtype: int64"
      ]
     },
     "execution_count": 4,
     "metadata": {},
     "output_type": "execute_result"
    }
   ],
   "source": [
    "data_Y"
   ]
  },
  {
   "cell_type": "markdown",
   "metadata": {},
   "source": [
    "#### 1.2. Let's analyse the given data. \n",
    "* How many attributes are in given data?\n",
    "* Are the attributes on the common scale?\n",
    "* Are observations equally distributed for sick and healthy people?\n",
    "\n",
    "Plot the histogram of the assigned class and analyse the distribution.\n"
   ]
  },
  {
   "cell_type": "code",
   "execution_count": 5,
   "metadata": {},
   "outputs": [
    {
     "name": "stdout",
     "output_type": "stream",
     "text": [
      "Index(['MDVP:Fo(Hz)', 'MDVP:Fhi(Hz)', 'MDVP:Flo(Hz)', 'MDVP:Jitter(%)',\n",
      "       'MDVP:Jitter(Abs)', 'MDVP:RAP', 'MDVP:PPQ', 'Jitter:DDP',\n",
      "       'MDVP:Shimmer', 'MDVP:Shimmer(dB)', 'Shimmer:APQ3', 'Shimmer:APQ5',\n",
      "       'MDVP:APQ', 'Shimmer:DDA', 'NHR', 'HNR', 'RPDE', 'DFA', 'spread1',\n",
      "       'spread2', 'D2', 'PPE'],\n",
      "      dtype='object')\n"
     ]
    },
    {
     "data": {
      "text/plain": [
       "(array([ 48.,   0.,   0.,   0.,   0.,   0.,   0.,   0.,   0., 147.]),\n",
       " array([0. , 0.1, 0.2, 0.3, 0.4, 0.5, 0.6, 0.7, 0.8, 0.9, 1. ]),\n",
       " <a list of 10 Patch objects>)"
      ]
     },
     "execution_count": 5,
     "metadata": {},
     "output_type": "execute_result"
    },
    {
     "data": {
      "image/png": "[encoded data removed]",
      "text/plain": [
       "<Figure size 432x288 with 1 Axes>"
      ]
     },
     "metadata": {
      "needs_background": "light"
     },
     "output_type": "display_data"
    }
   ],
   "source": [
    "print(data_X.columns)\n",
    "plt.hist(data_Y)"
   ]
  },
  {
   "cell_type": "markdown",
   "metadata": {},
   "source": [
    "Plot the histograms of the first 5 attributes. "
   ]
  },
  {
   "cell_type": "code",
   "execution_count": 6,
   "metadata": {
    "scrolled": true
   },
   "outputs": [
    {
     "name": "stdout",
     "output_type": "stream",
     "text": [
      "MDVP:Fo(Hz)\n"
     ]
    },
    {
     "data": {
      "image/png": "[encoded data removed]",
      "text/plain": [
       "<Figure size 432x288 with 1 Axes>"
      ]
     },
     "metadata": {
      "needs_background": "light"
     },
     "output_type": "display_data"
    },
    {
     "name": "stdout",
     "output_type": "stream",
     "text": [
      "MDVP:Fhi(Hz)\n"
     ]
    },
    {
     "data": {
      "image/png": "[encoded data removed]",
      "text/plain": [
       "<Figure size 432x288 with 1 Axes>"
      ]
     },
     "metadata": {
      "needs_background": "light"
     },
     "output_type": "display_data"
    },
    {
     "name": "stdout",
     "output_type": "stream",
     "text": [
      "MDVP:Flo(Hz)\n"
     ]
    },
    {
     "data": {
      "image/png": "[encoded data removed]",
      "text/plain": [
       "<Figure size 432x288 with 1 Axes>"
      ]
     },
     "metadata": {
      "needs_background": "light"
     },
     "output_type": "display_data"
    },
    {
     "name": "stdout",
     "output_type": "stream",
     "text": [
      "MDVP:Jitter(%)\n"
     ]
    },
    {
     "data": {
      "image/png": "[encoded data removed]",
      "text/plain": [
       "<Figure size 432x288 with 1 Axes>"
      ]
     },
     "metadata": {
      "needs_background": "light"
     },
     "output_type": "display_data"
    },
    {
     "name": "stdout",
     "output_type": "stream",
     "text": [
      "MDVP:Jitter(Abs)\n"
     ]
    },
    {
     "data": {
      "image/png": "[encoded data removed]",
      "text/plain": [
       "<Figure size 432x288 with 1 Axes>"
      ]
     },
     "metadata": {
      "needs_background": "light"
     },
     "output_type": "display_data"
    }
   ],
   "source": [
    "for column in data_X.columns[:5]:\n",
    "    print(column)\n",
    "    plt.hist(data_X[column])\n",
    "    plt.show()"
   ]
  },
  {
   "cell_type": "markdown",
   "metadata": {},
   "source": [
    "# 3. Train and test set selection\n",
    "\n",
    "#### We want to build our classifier and test it on another set of observations.\n",
    "\n",
    "To split data into train and test sets use train_test_split method from sklearn.model_selection module (https://scikit-learn.org/stable/modules/generated/sklearn.model_selection.train_test_split.html). Use 80% of cases in train set and 20% in test set. \n",
    "Use random_state = 5 just to be sure we all have the same rows in train and test sets :)\n",
    "\n",
    "split_data should return a tuple containing: dataframe with train set attributes, list of labels for train data, dataframe with test set attributes and a list of labels for test data."
   ]
  },
  {
   "cell_type": "code",
   "execution_count": 7,
   "metadata": {},
   "outputs": [
    {
     "name": "stdout",
     "output_type": "stream",
     "text": [
      "rows in train set:  156\n",
      "rows in test set: 39\n",
      "Index(['MDVP:Fo(Hz)', 'MDVP:Fhi(Hz)', 'MDVP:Flo(Hz)', 'MDVP:Jitter(%)',\n",
      "       'MDVP:Jitter(Abs)', 'MDVP:RAP', 'MDVP:PPQ', 'Jitter:DDP',\n",
      "       'MDVP:Shimmer', 'MDVP:Shimmer(dB)', 'Shimmer:APQ3', 'Shimmer:APQ5',\n",
      "       'MDVP:APQ', 'Shimmer:DDA', 'NHR', 'HNR', 'RPDE', 'DFA', 'spread1',\n",
      "       'spread2', 'D2', 'PPE'],\n",
      "      dtype='object')\n"
     ]
    }
   ],
   "source": [
    "def split_data(data_X, data_Y, test_percent = 20, random_state=5):\n",
    "    return train_test_split(data_X, data_Y, test_size=test_percent/100, random_state=random_state)\n",
    "    \n",
    "train_X, test_X, train_Y, test_Y = split_data(data_X, data_Y)\n",
    "print(\"rows in train set: \", train_X.shape[0])\n",
    "print(\"rows in test set:\", test_X.shape[0])\n",
    "print(train_X.columns)"
   ]
  },
  {
   "cell_type": "markdown",
   "metadata": {},
   "source": [
    "# 4. Data standarization/normalization\n",
    "#### 4.1. Use k-nn algorithm to classify the obtained test set using k=3. What is the accuracy of the classification?\n",
    "\n",
    "Use KNeighborsClassifier class from sklearn.neighbors module. Useful methods: fit and predict. Classification accuracy can be obtained with accuracy_score method from sklearn.metrics. Function get_classification_accuracy should return the accuracy of classification of given test set on model build with train set.\n",
    "\n",
    "https://scikit-learn.org/stable/modules/generated/sklearn.neighbors.KNeighborsClassifier.html"
   ]
  },
  {
   "cell_type": "code",
   "execution_count": 46,
   "metadata": {},
   "outputs": [
    {
     "data": {
      "text/plain": [
       "0.7692307692307693"
      ]
     },
     "execution_count": 46,
     "metadata": {},
     "output_type": "execute_result"
    }
   ],
   "source": [
    "def get_classifier(k=3):\n",
    "    return KNeighborsClassifier(n_neighbors=k)\n",
    "\n",
    "def get_classification_accuracy(train_data_X, train_data_Y, test_data_X, test_data_Y, k=3):\n",
    "    neigh = get_classifier(k=k)\n",
    "    neigh.fit(train_data_X, train_data_Y)\n",
    "    predictions = neigh.predict(test_data_X)\n",
    "    return metrics.accuracy_score(test_data_Y, predictions)\n",
    "\n",
    "get_classification_accuracy(train_X, train_Y, test_X, test_Y, k=3)"
   ]
  },
  {
   "cell_type": "markdown",
   "metadata": {},
   "source": [
    "#### 4.2. Perform some normalization or standarization of attributes. Then repeat the classification. Do the classification accuracy change?\n",
    "\n",
    "You can use sklearn.preprocessing.StandardScaler, sklearn.preprocessing.MinMaxScaler or sklearn.preprocessing.MaxAbsScaler and their fit_transform/transform methods.\n",
    "\n",
    "Try other standarization methods to verify the standarization procedure influence the classification accuracy.\n",
    "standarize_train_and_test should return 2 dataFrames - with normalized train and normalized test sets."
   ]
  },
  {
   "cell_type": "code",
   "execution_count": 47,
   "metadata": {},
   "outputs": [
    {
     "data": {
      "text/plain": [
       "0.9743589743589743"
      ]
     },
     "execution_count": 47,
     "metadata": {},
     "output_type": "execute_result"
    }
   ],
   "source": [
    "def standarize_train_and_test(train_X, test_X):\n",
    "    scaler = preprocessing.MinMaxScaler()\n",
    "    scaler.fit(train_X)\n",
    "    train_X = scaler.transform(train_X)\n",
    "    test_X = scaler.transform(test_X)\n",
    "    return train_X, test_X\n",
    "\n",
    "norm_train_X, norm_test_X = standarize_train_and_test(train_X, test_X)\n",
    "get_classification_accuracy(norm_train_X, train_Y, norm_test_X, test_Y)"
   ]
  },
  {
   "cell_type": "markdown",
   "metadata": {},
   "source": [
    "# 5. Choosing k value\n",
    "Using obtained in previous exercices train set with normalization/standarization use k-nn algoritm using k from 1 to 20. Use 5-fold cross-validation within the train set to obtain the classification accuracy. Plot the obtained accuracy of the classification. Which k value seems to be the best for the given dataset?\n",
    "\n",
    "See https://scikit-learn.org/stable/modules/generated/sklearn.model_selection.cross_validate.html for more info about cross validation in sklearn."
   ]
  },
  {
   "cell_type": "code",
   "execution_count": 48,
   "metadata": {},
   "outputs": [
    {
     "name": "stdout",
     "output_type": "stream",
     "text": [
      "1 0.9550403225806452 [0.96875    0.96774194 0.96774194 0.96774194 0.90322581]\n",
      "2 0.9106854838709678 [0.84375    0.93548387 0.93548387 0.93548387 0.90322581]\n",
      "3 0.9106854838709678 [0.84375    0.87096774 0.96774194 0.90322581 0.96774194]\n",
      "4 0.904233870967742 [0.84375    0.87096774 0.96774194 0.93548387 0.90322581]\n",
      "5 0.897983870967742 [0.8125     0.93548387 0.90322581 0.90322581 0.93548387]\n",
      "6 0.8913306451612903 [0.84375    0.87096774 0.90322581 0.90322581 0.93548387]\n",
      "7 0.8850806451612904 [0.8125     0.90322581 0.87096774 0.90322581 0.93548387]\n",
      "8 0.8913306451612903 [0.84375    0.90322581 0.87096774 0.90322581 0.93548387]\n",
      "9 0.8717741935483871 [0.875      0.87096774 0.87096774 0.90322581 0.83870968]\n",
      "10 0.8653225806451614 [0.875      0.83870968 0.87096774 0.90322581 0.83870968]\n",
      "11 0.8461693548387098 [0.84375    0.83870968 0.87096774 0.87096774 0.80645161]\n",
      "12 0.839717741935484 [0.84375    0.83870968 0.87096774 0.87096774 0.77419355]\n",
      "13 0.8588709677419356 [0.875      0.83870968 0.87096774 0.87096774 0.83870968]\n",
      "14 0.8524193548387098 [0.875      0.83870968 0.87096774 0.87096774 0.80645161]\n",
      "15 0.8330645161290324 [0.875      0.83870968 0.87096774 0.80645161 0.77419355]\n",
      "16 0.8395161290322581 [0.875      0.83870968 0.87096774 0.80645161 0.80645161]\n",
      "17 0.8330645161290324 [0.875      0.83870968 0.83870968 0.80645161 0.80645161]\n",
      "18 0.8395161290322581 [0.875      0.83870968 0.83870968 0.83870968 0.80645161]\n",
      "19 0.8266129032258066 [0.875      0.83870968 0.83870968 0.80645161 0.77419355]\n",
      "20 0.8395161290322581 [0.875      0.83870968 0.83870968 0.83870968 0.80645161]\n"
     ]
    },
    {
     "data": {
      "text/plain": [
       "[<matplotlib.lines.Line2D at 0x7fc7d1028820>]"
      ]
     },
     "execution_count": 48,
     "metadata": {},
     "output_type": "execute_result"
    },
    {
     "data": {
      "image/png": "[encoded data removed]",
      "text/plain": [
       "<Figure size 432x288 with 1 Axes>"
      ]
     },
     "metadata": {
      "needs_background": "light"
     },
     "output_type": "display_data"
    }
   ],
   "source": [
    "norm_train_X, norm_test_X = standarize_train_and_test(train_X, test_X)\n",
    "scores_avg = []\n",
    "for k in range(1, 21):\n",
    "    kneigh = get_classifier(k=k)\n",
    "    scores = cross_validate(kneigh, norm_train_X, train_Y, cv=5, scoring='accuracy')\n",
    "    score = sum(scores['test_score'])/len(scores['test_score'])\n",
    "    print(k, score, scores['test_score'])\n",
    "    scores_avg.append(score)\n",
    "plt.plot(range(1, 21), scores_avg)"
   ]
  },
  {
   "cell_type": "markdown",
   "metadata": {},
   "source": [
    "# 6. Testing classifier\n",
    "Train the k-NN classifier again and test it using the obtained best k value on a test set to check the final classification accuracy. You can just call the previous written function get_classification_accuracy)"
   ]
  },
  {
   "cell_type": "code",
   "execution_count": 11,
   "metadata": {},
   "outputs": [
    {
     "data": {
      "text/plain": [
       "0.9743589743589743"
      ]
     },
     "execution_count": 11,
     "metadata": {},
     "output_type": "execute_result"
    }
   ],
   "source": [
    "get_classification_accuracy(norm_train_X, train_Y, norm_test_X, test_Y, k=1)"
   ]
  },
  {
   "cell_type": "markdown",
   "metadata": {},
   "source": [
    "# 7. Homework\n",
    "You are given a dataset containing information about 1600 red wines (winequality.csv) containing 11 attributes and assignment to one of the three wine quality classess: \"poor\", \"medium\" and \"good\". Perform a preprocessing of this dataset (normalization, standardization). Divide this set into the train and test sets. Choose experimentally the best value of k (using cross-validation) and perform classification using the  k-nn algoritm with the chosen k value. Write a report containing information about the used preprocessing methods, chosen train/test split method (percentage of examples in train/test sets, if shuffling or stratification used), plot of the accuracy depending of k parameter, finally chosen k and obtained classification accuracy on a test set.\n",
    "\n",
    "**Deadline +2 weeks**\n",
    "    \n",
    "    "
   ]
  },
  {
   "cell_type": "code",
   "execution_count": 12,
   "metadata": {},
   "outputs": [],
   "source": [
    "from sklearn.pipeline import make_pipeline"
   ]
  },
  {
   "cell_type": "code",
   "execution_count": 13,
   "metadata": {},
   "outputs": [],
   "source": [
    "def read_data(path, y_column):\n",
    "    dataframe = pd.read_csv(path)\n",
    "    \n",
    "    data_y = dataframe[y_column]\n",
    "    dataframe = dataframe.drop(y_column, axis=1)\n",
    "    \n",
    "    return dataframe, data_y\n",
    "\n",
    "data_x, data_y = read_data('winequality-red.csv', 'quality')"
   ]
  },
  {
   "cell_type": "code",
   "execution_count": 14,
   "metadata": {},
   "outputs": [],
   "source": [
    "random_state = 42\n",
    "train_size = 0.8\n",
    "\n",
    "x_train, x_test, y_train, y_test = train_test_split(data_x, data_y, train_size=train_size, random_state=random_state)"
   ]
  },
  {
   "cell_type": "code",
   "execution_count": 37,
   "metadata": {},
   "outputs": [
    {
     "data": {
      "text/plain": [
       "0.71875"
      ]
     },
     "execution_count": 37,
     "metadata": {},
     "output_type": "execute_result"
    }
   ],
   "source": [
    "def make_classifier_knn(k):\n",
    "    return make_pipeline(preprocessing.StandardScaler(), \n",
    "                         KNeighborsClassifier(n_neighbors=k, weights='distance'))\n",
    "\n",
    "def score_classifier(x_train, y_train, x_test, y_test, classifier):\n",
    "    classifier.fit(x_train, y_train)\n",
    "    labels = classifier.predict(x_test)\n",
    "    return metrics.accuracy_score(y_test, labels)\n",
    "\n",
    "score_classifier(x_train, y_train, x_test, y_test, make_classifier_knn(k=13))"
   ]
  },
  {
   "cell_type": "code",
   "execution_count": 34,
   "metadata": {},
   "outputs": [],
   "source": [
    "def crossvalidate(make_classifier):\n",
    "    scores_avg = []\n",
    "    k_range = range(1, 31)\n",
    "    for k in k_range:\n",
    "        knn = make_classifier(k=k)\n",
    "        scores = cross_validate(knn, x_train, y_train, cv=10, scoring='accuracy')\n",
    "        mean = sum(scores['test_score'])/len(scores['test_score'])\n",
    "        #print(k, mean)\n",
    "        scores_avg.append(mean)\n",
    "    return k_range, scores_avg\n",
    "        \n",
    "def plot_scores(k_range, scores_avg, label=None, fig=None, ax=None):\n",
    "    if not fig:\n",
    "        fig, ax = plt.subplots()\n",
    "    ax.plot(k_range, scores_avg, label=label)\n",
    "    ax.set_xlabel('k')\n",
    "    ax.set_ylabel('Dokładność [%]')\n",
    "    if label:\n",
    "        ax.legend()\n",
    "    #plt.savefig('plot.png', dpi=144.0)\n",
    "    return fig, ax"
   ]
  },
  {
   "cell_type": "code",
   "execution_count": 35,
   "metadata": {},
   "outputs": [
    {
     "data": {
      "text/plain": [
       "(<Figure size 432x288 with 1 Axes>,\n",
       " <matplotlib.axes._subplots.AxesSubplot at 0x7fc7d119d610>)"
      ]
     },
     "execution_count": 35,
     "metadata": {},
     "output_type": "execute_result"
    },
    {
     "data": {
      "image/png": "[encoded data removed]",
      "text/plain": [
       "<Figure size 432x288 with 1 Axes>"
      ]
     },
     "metadata": {
      "needs_background": "light"
     },
     "output_type": "display_data"
    }
   ],
   "source": [
    "scores = crossvalidate(make_classifier_knn)\n",
    "plot_scores(*scores)"
   ]
  },
  {
   "cell_type": "code",
   "execution_count": 17,
   "metadata": {},
   "outputs": [
    {
     "data": {
      "text/plain": [
       "0.7"
      ]
     },
     "execution_count": 17,
     "metadata": {},
     "output_type": "execute_result"
    }
   ],
   "source": [
    "score_classifier(x_train, y_train, x_test, y_test, make_classifier_knn(k=14))"
   ]
  },
  {
   "cell_type": "code",
   "execution_count": 29,
   "metadata": {
    "scrolled": false
   },
   "outputs": [
    {
     "data": {
      "image/png": "[encoded data removed]",
      "text/plain": [
       "<Figure size 432x288 with 1 Axes>"
      ]
     },
     "metadata": {
      "needs_background": "light"
     },
     "output_type": "display_data"
    }
   ],
   "source": [
    "def make_classifier_minmax(k):\n",
    "    return make_pipeline(preprocessing.MinMaxScaler(), \n",
    "                         KNeighborsClassifier(n_neighbors=k, weights='distance'))\n",
    "\n",
    "def make_classifier_maxabs(k):\n",
    "    return make_pipeline(preprocessing.MaxAbsScaler(), \n",
    "                         KNeighborsClassifier(n_neighbors=k, weights='distance'))\n",
    "\n",
    "def make_classifier_robust(k):\n",
    "    return make_pipeline(preprocessing.RobustScaler(), \n",
    "                         KNeighborsClassifier(n_neighbors=k, weights='distance'))\n",
    "\n",
    "scores = crossvalidate(make_classifier_knn)\n",
    "fig, ax = plot_scores(*scores, label='Standard Scaler')\n",
    "\n",
    "scores = crossvalidate(make_classifier_minmax)\n",
    "fig, ax = plot_scores(*scores, label='MinMax Scaler', fig=fig, ax=ax)\n",
    "\n",
    "scores = crossvalidate(make_classifier_maxabs)\n",
    "fig, ax = plot_scores(*scores, label='MaxAbs Scaler', fig=fig, ax=ax)\n",
    "\n",
    "#crossvalidate(make_classifier_robust)"
   ]
  },
  {
   "cell_type": "code",
   "execution_count": null,
   "metadata": {},
   "outputs": [],
   "source": []
  }
 ],
 "metadata": {
  "kernelspec": {
   "display_name": "Python 3",
   "language": "python",
   "name": "python3"
  },
  "language_info": {
   "codemirror_mode": {
    "name": "ipython",
    "version": 3
   },
   "file_extension": ".py",
   "mimetype": "text/x-python",
   "name": "python",
   "nbconvert_exporter": "python",
   "pygments_lexer": "ipython3",
   "version": "3.8.5"
  }
 },
 "nbformat": 4,
 "nbformat_minor": 4
}
